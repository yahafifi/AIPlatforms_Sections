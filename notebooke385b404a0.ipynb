{
 "cells": [
  {
   "cell_type": "code",
   "execution_count": 1,
   "id": "240a9d6f",
   "metadata": {
    "_cell_guid": "b1076dfc-b9ad-4769-8c92-a6c4dae69d19",
    "_uuid": "8f2839f25d086af736a60e9eeb907d3b93b6e0e5",
    "execution": {
     "iopub.execute_input": "2025-09-26T18:14:52.504980Z",
     "iopub.status.busy": "2025-09-26T18:14:52.504639Z",
     "iopub.status.idle": "2025-09-26T18:14:52.513036Z",
     "shell.execute_reply": "2025-09-26T18:14:52.512109Z"
    },
    "papermill": {
     "duration": 0.012944,
     "end_time": "2025-09-26T18:14:52.514473",
     "exception": false,
     "start_time": "2025-09-26T18:14:52.501529",
     "status": "completed"
    },
    "tags": []
   },
   "outputs": [
    {
     "name": "stdout",
     "output_type": "stream",
     "text": [
      "Hello\n"
     ]
    }
   ],
   "source": [
    "print('Hello')"
   ]
  },
  {
   "cell_type": "code",
   "execution_count": 2,
   "id": "eac9a4e4",
   "metadata": {
    "execution": {
     "iopub.execute_input": "2025-09-26T18:14:52.519084Z",
     "iopub.status.busy": "2025-09-26T18:14:52.518799Z",
     "iopub.status.idle": "2025-09-26T18:14:52.523340Z",
     "shell.execute_reply": "2025-09-26T18:14:52.522374Z"
    },
    "papermill": {
     "duration": 0.008329,
     "end_time": "2025-09-26T18:14:52.524705",
     "exception": false,
     "start_time": "2025-09-26T18:14:52.516376",
     "status": "completed"
    },
    "tags": []
   },
   "outputs": [
    {
     "name": "stdout",
     "output_type": "stream",
     "text": [
      "0\n",
      "1\n",
      "2\n",
      "3\n",
      "4\n"
     ]
    }
   ],
   "source": [
    "for i in range(5):\n",
    "    print(i)"
   ]
  },
  {
   "cell_type": "code",
   "execution_count": null,
   "id": "44598f58",
   "metadata": {
    "papermill": {
     "duration": 0.001221,
     "end_time": "2025-09-26T18:14:52.527521",
     "exception": false,
     "start_time": "2025-09-26T18:14:52.526300",
     "status": "completed"
    },
    "tags": []
   },
   "outputs": [],
   "source": []
  }
 ],
 "metadata": {
  "kaggle": {
   "accelerator": "none",
   "dataSources": [],
   "dockerImageVersionId": 31089,
   "isGpuEnabled": false,
   "isInternetEnabled": true,
   "language": "python",
   "sourceType": "notebook"
  },
  "kernelspec": {
   "display_name": "Python 3",
   "language": "python",
   "name": "python3"
  },
  "language_info": {
   "codemirror_mode": {
    "name": "ipython",
    "version": 3
   },
   "file_extension": ".py",
   "mimetype": "text/x-python",
   "name": "python",
   "nbconvert_exporter": "python",
   "pygments_lexer": "ipython3",
   "version": "3.11.13"
  },
  "papermill": {
   "default_parameters": {},
   "duration": 5.757037,
   "end_time": "2025-09-26T18:14:52.948005",
   "environment_variables": {},
   "exception": null,
   "input_path": "__notebook__.ipynb",
   "output_path": "__notebook__.ipynb",
   "parameters": {},
   "start_time": "2025-09-26T18:14:47.190968",
   "version": "2.6.0"
  }
 },
 "nbformat": 4,
 "nbformat_minor": 5
}
